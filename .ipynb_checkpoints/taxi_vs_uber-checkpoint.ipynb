{
 "cells": [
  {
   "cell_type": "code",
   "execution_count": 1,
   "metadata": {},
   "outputs": [
    {
     "data": {
      "text/plain": [
       "<pyspark.context.SparkContext at 0x8ee8a58>"
      ]
     },
     "execution_count": 1,
     "metadata": {},
     "output_type": "execute_result"
    }
   ],
   "source": [
    "sc"
   ]
  },
  {
   "cell_type": "code",
   "execution_count": 2,
   "metadata": {},
   "outputs": [],
   "source": [
    "# imports\n",
    "import pandas as pd\n",
    "import numpy as np\n",
    "from geopy.distance import great_circle\n",
    "import csv"
   ]
  },
  {
   "cell_type": "code",
   "execution_count": 15,
   "metadata": {},
   "outputs": [],
   "source": [
    "taxi_aug14 = sc.textFile('../augestHead1000.csv'   , use_unicode=False).cache()\n",
    "uber_aug14 = sc.textFile('../uber-raw-data-aug14.csv', use_unicode=False).cache()\n",
    "# list(enumerate(taxi_aug14.first().split(',')))\n",
    "# list(enumerate(uber_aug14.first().split(',')))"
   ]
  },
  {
   "cell_type": "code",
   "execution_count": 16,
   "metadata": {},
   "outputs": [],
   "source": [
    "queensCenter = ((40.800760+40.542920)/2,(-73.700272-73.962616)/2)\n",
    "brookCenter = ((40.739877+40.57042)/2,(-73.864754-74.04344)/2)\n",
    "bronxCenter = ((40.915255+40.785743)/2,(-73.765274-73.933406)/2)\n",
    "manhattanCenter = ((40.874663+40.701293)/2,(-73.910759-74.018721)/2)\n",
    "siCenter = ((40.651812+40.477399)/2,(-74.034547-74.259090)/2)\n",
    "\n",
    "boroughDict = {}\n",
    "boroughDict[\"queens\"] = queensCenter\n",
    "boroughDict[\"brooklyn\"] = brookCenter\n",
    "boroughDict[\"bronx\"] = bronxCenter\n",
    "boroughDict[\"manhattan\"] = manhattanCenter\n",
    "boroughDict[\"staten\"] = siCenter\n",
    "\n",
    "#This function returns the string representation of the likely borough, given a set of latitude/longitude coordinates\n",
    "#If the distance to the borough center is too far away from the closest borough, we assume that the location\n",
    "#is outside of NYC\n",
    "def get_closest_borough(latitude,longitude,max_dist = 20):\n",
    "    global boroughDict\n",
    "    borough_distances = {borough:great_circle(boroughDict[borough],(latitude,longitude)).miles for borough in boroughDict}\n",
    "    min_borough = min(borough_distances, key=borough_distances.get)\n",
    "    if borough_distances[min_borough] < max_dist:\n",
    "        return min_borough \n",
    "    else:\n",
    "        return \"outside_nyc\""
   ]
  },
  {
   "cell_type": "code",
   "execution_count": 18,
   "metadata": {
    "scrolled": false
   },
   "outputs": [
    {
     "data": {
      "text/plain": [
       "[('2014/8/16 14:58', '-73.946537', '40.776813', 'manhattan'),\n",
       " ('2014/8/16 8:10', '-73.776857', '40.645099', 'queens'),\n",
       " ('2014/8/16 9:44', '-73.986585', '40.725848', 'manhattan'),\n",
       " ('2014/8/16 10:46', '-73.97629', '40.765231', 'manhattan'),\n",
       " ('2014/8/16 9:27', '-73.995248', '40.754646', 'manhattan'),\n",
       " ('2014/8/16 14:14', '-73.991535', '40.759863', 'manhattan'),\n",
       " ('2014/8/16 15:55', '-73.972307', '40.794076', 'manhattan'),\n",
       " ('2014/8/16 14:08', '-73.967338', '40.766009', 'manhattan'),\n",
       " ('2014/8/16 11:11', '-73.973775', '40.794591', 'manhattan'),\n",
       " ('2014/8/16 7:44', '-73.98636', '40.737913', 'manhattan')]"
      ]
     },
     "execution_count": 18,
     "metadata": {},
     "output_type": "execute_result"
    }
   ],
   "source": [
    "def extractTaxi(partId, records):\n",
    "    if partId==0:\n",
    "        records.next()\n",
    "    reader = csv.reader(records)\n",
    "    for row in reader:\n",
    "        (pickup, lon, lat, boro) = (row[1], row[5], row[6], get_closest_borough(row[6],row[5]))\n",
    "        yield pickup, lon, lat, boro\n",
    "\n",
    "trdd = taxi_aug14.mapPartitionsWithIndex(extractTaxi)\n",
    "trdd.take(10)"
   ]
  },
  {
   "cell_type": "code",
   "execution_count": 19,
   "metadata": {},
   "outputs": [
    {
     "data": {
      "text/plain": [
       "[(0, '\"Date/Time\"'), (1, '\"Lat\"'), (2, '\"Lon\"'), (3, '\"Base\"')]"
      ]
     },
     "execution_count": 19,
     "metadata": {},
     "output_type": "execute_result"
    }
   ],
   "source": [
    "list(enumerate(uber_aug14.first().split(',')))"
   ]
  },
  {
   "cell_type": "code",
   "execution_count": 22,
   "metadata": {},
   "outputs": [
    {
     "data": {
      "text/plain": [
       "[('8/1/2014 0:03:00', '-73.9906', '40.7366', 'manhattan'),\n",
       " ('8/1/2014 0:09:00', '-73.9918', '40.726', 'manhattan'),\n",
       " ('8/1/2014 0:12:00', '-74.0507', '40.7209', 'manhattan'),\n",
       " ('8/1/2014 0:12:00', '-73.9856', '40.7387', 'manhattan'),\n",
       " ('8/1/2014 0:12:00', '-74.0077', '40.7323', 'manhattan'),\n",
       " ('8/1/2014 0:13:00', '-74.0033', '40.7349', 'manhattan'),\n",
       " ('8/1/2014 0:15:00', '-73.9542', '40.7279', 'manhattan'),\n",
       " ('8/1/2014 0:17:00', '-73.9937', '40.721', 'manhattan'),\n",
       " ('8/1/2014 0:19:00', '-74.006', '40.7195', 'manhattan'),\n",
       " ('8/1/2014 0:20:00', '-73.9799', '40.7448', 'manhattan')]"
      ]
     },
     "execution_count": 22,
     "metadata": {},
     "output_type": "execute_result"
    }
   ],
   "source": [
    "def extractUber(partId, records):\n",
    "    if partId==0:\n",
    "        records.next()\n",
    "    import csv\n",
    "    reader = csv.reader(records)\n",
    "    for row in reader:\n",
    "        (pickup, lat, lon, boro) = (row[0], row[1], row[2], get_closest_borough(row[1],row[2]))\n",
    "        yield pickup, lon, lat, boro\n",
    "\n",
    "AugUber = uber_aug14.mapPartitionsWithIndex(extractUber)\n",
    "AugUber.take(10)"
   ]
  },
  {
   "cell_type": "code",
   "execution_count": null,
   "metadata": {},
   "outputs": [],
   "source": []
  }
 ],
 "metadata": {
  "kernelspec": {
   "display_name": "py27",
   "language": "python",
   "name": "py27"
  },
  "language_info": {
   "codemirror_mode": {
    "name": "ipython",
    "version": 2
   },
   "file_extension": ".py",
   "mimetype": "text/x-python",
   "name": "python",
   "nbconvert_exporter": "python",
   "pygments_lexer": "ipython2",
   "version": "2.7.14"
  }
 },
 "nbformat": 4,
 "nbformat_minor": 2
}
