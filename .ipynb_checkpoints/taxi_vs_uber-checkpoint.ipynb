{
 "cells": [
  {
   "cell_type": "code",
   "execution_count": 1,
   "metadata": {},
   "outputs": [
    {
     "data": {
      "text/plain": [
       "<pyspark.context.SparkContext at 0x9276a58>"
      ]
     },
     "execution_count": 1,
     "metadata": {},
     "output_type": "execute_result"
    }
   ],
   "source": [
    "sc"
   ]
  },
  {
   "cell_type": "code",
   "execution_count": 2,
   "metadata": {},
   "outputs": [],
   "source": [
    "# imports\n",
    "import pandas as pd\n",
    "import numpy as np\n",
    "from geopy.distance import great_circle\n",
    "import matplotlib.pyplot as plt\n",
    "import csv"
   ]
  },
  {
   "cell_type": "code",
   "execution_count": 3,
   "metadata": {},
   "outputs": [],
   "source": [
    "taxi_aug14 = sc.textFile('../augestHead1000.csv'   , use_unicode=False).cache()\n",
    "uber_aug14 = sc.textFile('../uber-raw-data-aug14.csv', use_unicode=False).cache()\n",
    "# list(enumerate(taxi_aug14.first().split(',')))\n",
    "# list(enumerate(uber_aug14.first().split(',')))"
   ]
  },
  {
   "cell_type": "code",
   "execution_count": 4,
   "metadata": {},
   "outputs": [],
   "source": [
    "queensCenter = ((40.800760+40.542920)/2,(-73.700272-73.962616)/2)\n",
    "brookCenter = ((40.739877+40.57042)/2,(-73.864754-74.04344)/2)\n",
    "bronxCenter = ((40.915255+40.785743)/2,(-73.765274-73.933406)/2)\n",
    "manhattanCenter = ((40.874663+40.701293)/2,(-73.910759-74.018721)/2)\n",
    "siCenter = ((40.651812+40.477399)/2,(-74.034547-74.259090)/2)\n",
    "\n",
    "boroughDict = {}\n",
    "boroughDict[\"queens\"] = queensCenter\n",
    "boroughDict[\"brooklyn\"] = brookCenter\n",
    "boroughDict[\"bronx\"] = bronxCenter\n",
    "boroughDict[\"manhattan\"] = manhattanCenter\n",
    "boroughDict[\"staten\"] = siCenter\n",
    "\n",
    "#This function returns the string representation of the likely borough, given a set of latitude/longitude coordinates\n",
    "#If the distance to the borough center is too far away from the closest borough, we assume that the location\n",
    "#is outside of NYC\n",
    "def get_closest_borough(latitude,longitude,max_dist = 20):\n",
    "    global boroughDict\n",
    "    borough_distances = {borough:great_circle(boroughDict[borough],(latitude,longitude)).miles for borough in boroughDict}\n",
    "    min_borough = min(borough_distances, key=borough_distances.get)\n",
    "    if borough_distances[min_borough] < max_dist:\n",
    "        return min_borough \n",
    "    else:\n",
    "        return \"outside_nyc\""
   ]
  },
  {
   "cell_type": "code",
   "execution_count": 20,
   "metadata": {
    "scrolled": false
   },
   "outputs": [
    {
     "data": {
      "text/plain": [
       "[(('manhattan', '2014/8/16'), 1),\n",
       " (('queens', '2014/8/16'), 1),\n",
       " (('manhattan', '2014/8/16'), 1),\n",
       " (('manhattan', '2014/8/16'), 1),\n",
       " (('manhattan', '2014/8/16'), 1),\n",
       " (('manhattan', '2014/8/16'), 1),\n",
       " (('manhattan', '2014/8/16'), 1),\n",
       " (('manhattan', '2014/8/16'), 1),\n",
       " (('manhattan', '2014/8/16'), 1),\n",
       " (('manhattan', '2014/8/16'), 1)]"
      ]
     },
     "execution_count": 20,
     "metadata": {},
     "output_type": "execute_result"
    }
   ],
   "source": [
    "def extractTaxi(partId, records):\n",
    "    if partId==0:\n",
    "        records.next()\n",
    "    reader = csv.reader(records)\n",
    "    for row in reader:\n",
    "        (pickup, boro) = (row[1].split(\" \")[0], get_closest_borough(row[6],row[5]))\n",
    "        yield ((boro, pickup) , 1)\n",
    "\n",
    "trdd = taxi_aug14.mapPartitionsWithIndex(extractTaxi)\n",
    "trdd.take(10)"
   ]
  },
  {
   "cell_type": "code",
   "execution_count": 21,
   "metadata": {},
   "outputs": [
    {
     "data": {
      "text/plain": [
       "[(0, '\"Date/Time\"'), (1, '\"Lat\"'), (2, '\"Lon\"'), (3, '\"Base\"')]"
      ]
     },
     "execution_count": 21,
     "metadata": {},
     "output_type": "execute_result"
    }
   ],
   "source": [
    "list(enumerate(uber_aug14.first().split(',')))"
   ]
  },
  {
   "cell_type": "code",
   "execution_count": 22,
   "metadata": {
    "scrolled": false
   },
   "outputs": [
    {
     "data": {
      "text/plain": [
       "[(('manhattan', '8/1/2014'), 1),\n",
       " (('manhattan', '8/1/2014'), 1),\n",
       " (('manhattan', '8/1/2014'), 1),\n",
       " (('manhattan', '8/1/2014'), 1),\n",
       " (('manhattan', '8/1/2014'), 1),\n",
       " (('manhattan', '8/1/2014'), 1),\n",
       " (('manhattan', '8/1/2014'), 1),\n",
       " (('manhattan', '8/1/2014'), 1),\n",
       " (('manhattan', '8/1/2014'), 1),\n",
       " (('manhattan', '8/1/2014'), 1)]"
      ]
     },
     "execution_count": 22,
     "metadata": {},
     "output_type": "execute_result"
    }
   ],
   "source": [
    "def extractUber(partId, records):\n",
    "    if partId==0:\n",
    "        records.next()\n",
    "    import csv\n",
    "    reader = csv.reader(records)\n",
    "    for row in reader:\n",
    "        (pickup, boro) = (row[0].split(\" \")[0],  get_closest_borough(row[1],row[2]))\n",
    "        yield ((boro, pickup), 1)\n",
    "\n",
    "Urdd = uber_aug14.mapPartitionsWithIndex(extractUber)\n",
    "Urdd.take(10)"
   ]
  },
  {
   "cell_type": "code",
   "execution_count": 23,
   "metadata": {
    "scrolled": true
   },
   "outputs": [
    {
     "data": {
      "text/plain": [
       "[(('outside_nyc', '2014/8/16'), 17),\n",
       " (('outside_nyc', '2014/8/18'), 2),\n",
       " (('manhattan', '2014/8/18'), 106),\n",
       " (('brooklyn', '2014/8/17'), 2),\n",
       " (('queens', '2014/8/16'), 20),\n",
       " (('manhattan', '2014/8/21'), 2),\n",
       " (('queens', '2014/8/18'), 4),\n",
       " (('manhattan', '2014/8/16'), 704),\n",
       " (('manhattan', '2014/8/19'), 2),\n",
       " (('bronx', '2014/8/16'), 1)]"
      ]
     },
     "execution_count": 23,
     "metadata": {},
     "output_type": "execute_result"
    }
   ],
   "source": [
    "trdd.reduceByKey(lambda x, y: x+y).take(10)"
   ]
  },
  {
   "cell_type": "code",
   "execution_count": null,
   "metadata": {},
   "outputs": [],
   "source": []
  },
  {
   "cell_type": "code",
   "execution_count": 30,
   "metadata": {},
   "outputs": [
    {
     "data": {
      "text/plain": [
       "[(('bronx', '2014/8/16'), 1),\n",
       " (('brooklyn', '2014/8/16'), 66),\n",
       " (('brooklyn', '2014/8/17'), 2),\n",
       " (('brooklyn', '2014/8/18'), 5),\n",
       " (('manhattan', '2014/8/16'), 704),\n",
       " (('manhattan', '2014/8/17'), 63),\n",
       " (('manhattan', '2014/8/18'), 106),\n",
       " (('manhattan', '2014/8/19'), 2),\n",
       " (('manhattan', '2014/8/20'), 2),\n",
       " (('manhattan', '2014/8/21'), 2)]"
      ]
     },
     "execution_count": 30,
     "metadata": {},
     "output_type": "execute_result"
    }
   ],
   "source": [
    "alltaxi = trdd.reduceByKey(lambda x, y: x+y).sortBy(lambda x:(x[0][0], x[0][1]))\n",
    "alltaxi.take(10)"
   ]
  },
  {
   "cell_type": "code",
   "execution_count": 37,
   "metadata": {},
   "outputs": [],
   "source": [
    "test1 = alltaxi.map(lambda x: ((x[0][0]), x[0][1], x[1])).collect()"
   ]
  },
  {
   "cell_type": "code",
   "execution_count": 38,
   "metadata": {},
   "outputs": [
    {
     "data": {
      "text/plain": [
       "[('bronx', '2014/8/16', 1),\n",
       " ('brooklyn', '2014/8/16', 66),\n",
       " ('brooklyn', '2014/8/17', 2),\n",
       " ('brooklyn', '2014/8/18', 5),\n",
       " ('manhattan', '2014/8/16', 704),\n",
       " ('manhattan', '2014/8/17', 63),\n",
       " ('manhattan', '2014/8/18', 106),\n",
       " ('manhattan', '2014/8/19', 2),\n",
       " ('manhattan', '2014/8/20', 2),\n",
       " ('manhattan', '2014/8/21', 2)]"
      ]
     },
     "execution_count": 38,
     "metadata": {},
     "output_type": "execute_result"
    }
   ],
   "source": [
    "test1[:10]"
   ]
  },
  {
   "cell_type": "code",
   "execution_count": 62,
   "metadata": {},
   "outputs": [],
   "source": [
    "values = []\n",
    "'''count = 0\n",
    "for i in test1:\n",
    "    values.append(i[2])\n",
    "        count+=1\n",
    "    else:\n",
    "        break'''\n",
    "        \n",
    "values.append(i[2] for i in test1)"
   ]
  },
  {
   "cell_type": "code",
   "execution_count": 75,
   "metadata": {},
   "outputs": [],
   "source": [
    "test2 = alltaxi.map(lambda x: (x[0][0], [(x[0][1], x[1])])).reduceByKey(lambda x, y: (x+y))"
   ]
  },
  {
   "cell_type": "code",
   "execution_count": 76,
   "metadata": {},
   "outputs": [],
   "source": [
    "test2 = test2.collect()"
   ]
  },
  {
   "cell_type": "code",
   "execution_count": 77,
   "metadata": {},
   "outputs": [
    {
     "data": {
      "text/plain": [
       "[('bronx', [('2014/8/16', 1)]),\n",
       " ('brooklyn', [('2014/8/16', 66), ('2014/8/17', 2), ('2014/8/18', 5)]),\n",
       " ('outside_nyc', [('2014/8/16', 17), ('2014/8/17', 2), ('2014/8/18', 2)]),\n",
       " ('manhattan',\n",
       "  [('2014/8/16', 704),\n",
       "   ('2014/8/17', 63),\n",
       "   ('2014/8/18', 106),\n",
       "   ('2014/8/19', 2),\n",
       "   ('2014/8/20', 2),\n",
       "   ('2014/8/21', 2)]),\n",
       " ('queens', [('2014/8/16', 20), ('2014/8/18', 4)])]"
      ]
     },
     "execution_count": 77,
     "metadata": {},
     "output_type": "execute_result"
    }
   ],
   "source": [
    "test2[:10]"
   ]
  },
  {
   "cell_type": "code",
   "execution_count": null,
   "metadata": {
    "scrolled": true
   },
   "outputs": [],
   "source": [
    "bronx = test2[:][0]"
   ]
  },
  {
   "cell_type": "code",
   "execution_count": null,
   "metadata": {},
   "outputs": [],
   "source": [
    "alluber = Urdd.map(lambda x: (x[0][0], [(x[0][1], x[1])])).reduceByKey(lambda x, y: (x+y))\n"
   ]
  },
  {
   "cell_type": "code",
   "execution_count": null,
   "metadata": {},
   "outputs": [],
   "source": [
    "alluber.take(4)"
   ]
  },
  {
   "cell_type": "code",
   "execution_count": null,
   "metadata": {},
   "outputs": [],
   "source": []
  },
  {
   "cell_type": "code",
   "execution_count": null,
   "metadata": {},
   "outputs": [],
   "source": [
    "'''import datetime\n",
    "# count =0\n",
    "for b in allUber:\n",
    "    bt = datetime.datetime.strptime(b, \"%Y-%m-%d %H:%M:%S\")\n",
    "    for t in lTaxi:\n",
    "        tt = datetime.datetime.strptime(t, \"%Y-%m-%d %H:%M:%S\")\n",
    "        diff = (bt-tt).total_seconds();\n",
    "        if diff > 0 and diff<600:\n",
    "            count+=1\n",
    "            break\n",
    "print(count)'''"
   ]
  },
  {
   "cell_type": "code",
   "execution_count": null,
   "metadata": {},
   "outputs": [],
   "source": [
    "# some fake data\n",
    "data = np.random.randn(1000)\n",
    "# evaluate the histogram\n",
    "values, base = np.histogram(data, bins=40)\n",
    "#evaluate the cumulative\n",
    "cumulative = np.cumsum(values)\n",
    "# plot the cumulative function\n",
    "plt.plot(base[:-1], cumulative, c='blue')\n",
    "#plot the survival function\n",
    "plt.plot(base[:-1], len(data)-cumulative, c='green')\n",
    "\n",
    "plt.show()"
   ]
  }
 ],
 "metadata": {
  "kernelspec": {
   "display_name": "py27",
   "language": "python",
   "name": "py27"
  },
  "language_info": {
   "codemirror_mode": {
    "name": "ipython",
    "version": 2
   },
   "file_extension": ".py",
   "mimetype": "text/x-python",
   "name": "python",
   "nbconvert_exporter": "python",
   "pygments_lexer": "ipython2",
   "version": "2.7.14"
  }
 },
 "nbformat": 4,
 "nbformat_minor": 2
}
