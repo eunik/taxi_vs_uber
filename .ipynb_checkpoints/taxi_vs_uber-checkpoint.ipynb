{
 "cells": [
  {
   "cell_type": "code",
   "execution_count": 9,
   "metadata": {},
   "outputs": [
    {
     "data": {
      "text/plain": [
       "<pyspark.context.SparkContext at 0x8c59a58>"
      ]
     },
     "execution_count": 9,
     "metadata": {},
     "output_type": "execute_result"
    }
   ],
   "source": [
    "sc"
   ]
  },
  {
   "cell_type": "code",
   "execution_count": 21,
   "metadata": {},
   "outputs": [],
   "source": [
    "# imports\n",
    "import pandas as pd\n",
    "import numpy as np\n",
    "from geopy.distance import great_circle\n",
    "import matplotlib.pyplot as plt\n",
    "import datetime\n",
    "import csv"
   ]
  },
  {
   "cell_type": "code",
   "execution_count": 14,
   "metadata": {},
   "outputs": [],
   "source": [
    "taxi_aug14 = sc.textFile('../taxi_aug14_200k.csv'   , use_unicode=False).filter(lambda x: x != \"\").cache()\n",
    "uber_aug14 = sc.textFile('../uber-raw-data-aug14.csv', use_unicode=False).cache()\n",
    "# list(enumerate(taxi_aug14.first().split(',')))\n",
    "# list(enumerate(uber_aug14.first().split(',')))"
   ]
  },
  {
   "cell_type": "code",
   "execution_count": 15,
   "metadata": {},
   "outputs": [],
   "source": [
    "queensCenter = ((40.800760+40.542920)/2,(-73.700272-73.962616)/2)\n",
    "brookCenter = ((40.739877+40.57042)/2,(-73.864754-74.04344)/2)\n",
    "bronxCenter = ((40.915255+40.785743)/2,(-73.765274-73.933406)/2)\n",
    "manhattanCenter = ((40.874663+40.701293)/2,(-73.910759-74.018721)/2)\n",
    "siCenter = ((40.651812+40.477399)/2,(-74.034547-74.259090)/2)\n",
    "\n",
    "boroughDict = {}\n",
    "boroughDict[\"queens\"] = queensCenter\n",
    "boroughDict[\"brooklyn\"] = brookCenter\n",
    "boroughDict[\"bronx\"] = bronxCenter\n",
    "boroughDict[\"manhattan\"] = manhattanCenter\n",
    "boroughDict[\"staten\"] = siCenter\n",
    "\n",
    "#This function returns the string representation of the likely borough, given a set of latitude/longitude coordinates\n",
    "#If the distance to the borough center is too far away from the closest borough, we assume that the location\n",
    "#is outside of NYC\n",
    "def get_closest_borough(latitude,longitude,max_dist = 20):\n",
    "    global boroughDict\n",
    "    borough_distances = {borough:great_circle(boroughDict[borough],(latitude,longitude)).miles for borough in boroughDict}\n",
    "    min_borough = min(borough_distances, key=borough_distances.get)\n",
    "    if borough_distances[min_borough] < max_dist:\n",
    "        return min_borough \n",
    "    else:\n",
    "        return \"outside_nyc\""
   ]
  },
  {
   "cell_type": "code",
   "execution_count": 18,
   "metadata": {
    "scrolled": true
   },
   "outputs": [
    {
     "data": {
      "text/plain": [
       "[('bronx',\n",
       "  [('2014-08-05', 26),\n",
       "   ('2014-08-16', 77),\n",
       "   ('2014-08-17', 180),\n",
       "   ('2014-08-18', 1),\n",
       "   ('2014-08-19', 1)]),\n",
       " ('brooklyn',\n",
       "  [('2014-08-05', 3990),\n",
       "   ('2014-08-14', 2),\n",
       "   ('2014-08-15', 42),\n",
       "   ('2014-08-16', 4707),\n",
       "   ('2014-08-17', 7470),\n",
       "   ('2014-08-18', 30),\n",
       "   ('2014-08-19', 9),\n",
       "   ('2014-08-20', 5)]),\n",
       " ('outside_nyc',\n",
       "  [('2014-08-04', 1),\n",
       "   ('2014-08-05', 1611),\n",
       "   ('2014-08-06', 1),\n",
       "   ('2014-08-15', 12),\n",
       "   ('2014-08-16', 1090),\n",
       "   ('2014-08-17', 1716),\n",
       "   ('2014-08-18', 12),\n",
       "   ('2014-08-19', 7),\n",
       "   ('2014-08-20', 4)]),\n",
       " ('queens',\n",
       "  [('2014-08-05', 928),\n",
       "   ('2014-08-12', 1),\n",
       "   ('2014-08-13', 3),\n",
       "   ('2014-08-15', 22),\n",
       "   ('2014-08-16', 1394),\n",
       "   ('2014-08-17', 2115),\n",
       "   ('2014-08-18', 26),\n",
       "   ('2014-08-19', 2)]),\n",
       " ('manhattan',\n",
       "  [('2014-08-05', 56075),\n",
       "   ('2014-08-12', 2),\n",
       "   ('2014-08-13', 11),\n",
       "   ('2014-08-14', 9),\n",
       "   ('2014-08-15', 388),\n",
       "   ('2014-08-16', 45455),\n",
       "   ('2014-08-17', 71822),\n",
       "   ('2014-08-18', 437),\n",
       "   ('2014-08-19', 162),\n",
       "   ('2014-08-20', 114),\n",
       "   ('2014-08-21', 6)]),\n",
       " ('staten', [('2014-08-05', 9), ('2014-08-16', 11), ('2014-08-17', 12)])]"
      ]
     },
     "execution_count": 18,
     "metadata": {},
     "output_type": "execute_result"
    }
   ],
   "source": [
    "def extractTaxi(partId, records):\n",
    "    if partId==0:\n",
    "        records.next()\n",
    "    reader = csv.reader(records)\n",
    "    for row in reader:\n",
    "        (pickup, boro) = (row[1].split(\" \")[0], get_closest_borough(row[6],row[5]))\n",
    "        yield ((boro, pickup) , 1)\n",
    "\n",
    "trdd = taxi_aug14.mapPartitionsWithIndex(extractTaxi)\\\n",
    "                .reduceByKey(lambda x, y: x+y)\\\n",
    "                .sortBy(lambda x:(x[0][0], x[0][1]))\\\n",
    "                .map(lambda x: (x[0][0], [(x[0][1], x[1])]))\\\n",
    "                .reduceByKey(lambda x, y: (x+y))\n",
    "trdd.take(10)"
   ]
  },
  {
   "cell_type": "code",
   "execution_count": 6,
   "metadata": {},
   "outputs": [
    {
     "data": {
      "text/plain": [
       "[(0, '\"Date/Time\"'), (1, '\"Lat\"'), (2, '\"Lon\"'), (3, '\"Base\"')]"
      ]
     },
     "execution_count": 6,
     "metadata": {},
     "output_type": "execute_result"
    }
   ],
   "source": [
    "list(enumerate(uber_aug14.first().split(',')))"
   ]
  },
  {
   "cell_type": "code",
   "execution_count": 31,
   "metadata": {},
   "outputs": [
    {
     "data": {
      "text/plain": [
       "[('bronx',\n",
       "  [('2014-08-01', 388),\n",
       "   ('2014-08-02', 466),\n",
       "   ('2014-08-03', 383),\n",
       "   ('2014-08-04', 261),\n",
       "   ('2014-08-05', 331),\n",
       "   ('2014-08-06', 367),\n",
       "   ('2014-08-07', 393),\n",
       "   ('2014-08-08', 423),\n",
       "   ('2014-08-09', 536),\n",
       "   ('2014-08-10', 401),\n",
       "   ('2014-08-11', 311),\n",
       "   ('2014-08-12', 362),\n",
       "   ('2014-08-13', 364),\n",
       "   ('2014-08-14', 400),\n",
       "   ('2014-08-15', 373),\n",
       "   ('2014-08-16', 511),\n",
       "   ('2014-08-17', 422),\n",
       "   ('2014-08-18', 318),\n",
       "   ('2014-08-19', 324),\n",
       "   ('2014-08-20', 397),\n",
       "   ('2014-08-21', 384),\n",
       "   ('2014-08-22', 420),\n",
       "   ('2014-08-23', 512),\n",
       "   ('2014-08-24', 375),\n",
       "   ('2014-08-25', 350),\n",
       "   ('2014-08-26', 359),\n",
       "   ('2014-08-27', 386),\n",
       "   ('2014-08-28', 430),\n",
       "   ('2014-08-29', 450),\n",
       "   ('2014-08-30', 533),\n",
       "   ('2014-08-31', 454)]),\n",
       " ('brooklyn',\n",
       "  [('2014-08-01', 6843),\n",
       "   ('2014-08-02', 7654),\n",
       "   ('2014-08-03', 5704),\n",
       "   ('2014-08-04', 4557),\n",
       "   ('2014-08-05', 5276),\n",
       "   ('2014-08-06', 5865),\n",
       "   ('2014-08-07', 6325),\n",
       "   ('2014-08-08', 6532),\n",
       "   ('2014-08-09', 7361),\n",
       "   ('2014-08-10', 5269),\n",
       "   ('2014-08-11', 4354),\n",
       "   ('2014-08-12', 5273),\n",
       "   ('2014-08-13', 5414),\n",
       "   ('2014-08-14', 5804),\n",
       "   ('2014-08-15', 6363),\n",
       "   ('2014-08-16', 7408),\n",
       "   ('2014-08-17', 5642),\n",
       "   ('2014-08-18', 4483),\n",
       "   ('2014-08-19', 4884),\n",
       "   ('2014-08-20', 5568),\n",
       "   ('2014-08-21', 6350),\n",
       "   ('2014-08-22', 6754),\n",
       "   ('2014-08-23', 7922),\n",
       "   ('2014-08-24', 6173),\n",
       "   ('2014-08-25', 4692),\n",
       "   ('2014-08-26', 5018),\n",
       "   ('2014-08-27', 5372),\n",
       "   ('2014-08-28', 5910),\n",
       "   ('2014-08-29', 6216),\n",
       "   ('2014-08-30', 6601),\n",
       "   ('2014-08-31', 6227)]),\n",
       " ('outside_nyc',\n",
       "  [('2014-08-01', 71),\n",
       "   ('2014-08-02', 86),\n",
       "   ('2014-08-03', 44),\n",
       "   ('2014-08-04', 20),\n",
       "   ('2014-08-05', 20),\n",
       "   ('2014-08-06', 27),\n",
       "   ('2014-08-07', 36),\n",
       "   ('2014-08-08', 65),\n",
       "   ('2014-08-09', 73),\n",
       "   ('2014-08-10', 38),\n",
       "   ('2014-08-11', 21),\n",
       "   ('2014-08-12', 30),\n",
       "   ('2014-08-13', 39),\n",
       "   ('2014-08-14', 39),\n",
       "   ('2014-08-15', 56),\n",
       "   ('2014-08-16', 119),\n",
       "   ('2014-08-17', 61),\n",
       "   ('2014-08-18', 33),\n",
       "   ('2014-08-19', 39),\n",
       "   ('2014-08-20', 29),\n",
       "   ('2014-08-21', 32),\n",
       "   ('2014-08-22', 53),\n",
       "   ('2014-08-23', 96),\n",
       "   ('2014-08-24', 46),\n",
       "   ('2014-08-25', 23),\n",
       "   ('2014-08-26', 26),\n",
       "   ('2014-08-27', 33),\n",
       "   ('2014-08-28', 37),\n",
       "   ('2014-08-29', 65),\n",
       "   ('2014-08-30', 108),\n",
       "   ('2014-08-31', 113)]),\n",
       " ('queens',\n",
       "  [('2014-08-01', 1153),\n",
       "   ('2014-08-02', 1149),\n",
       "   ('2014-08-03', 1497),\n",
       "   ('2014-08-04', 1266),\n",
       "   ('2014-08-05', 923),\n",
       "   ('2014-08-06', 1003),\n",
       "   ('2014-08-07', 931),\n",
       "   ('2014-08-08', 996),\n",
       "   ('2014-08-09', 1104),\n",
       "   ('2014-08-10', 1372),\n",
       "   ('2014-08-11', 1162),\n",
       "   ('2014-08-12', 831),\n",
       "   ('2014-08-13', 1028),\n",
       "   ('2014-08-14', 1024),\n",
       "   ('2014-08-15', 1064),\n",
       "   ('2014-08-16', 1093),\n",
       "   ('2014-08-17', 1353),\n",
       "   ('2014-08-18', 1057),\n",
       "   ('2014-08-19', 1001),\n",
       "   ('2014-08-20', 1062),\n",
       "   ('2014-08-21', 1040),\n",
       "   ('2014-08-22', 1192),\n",
       "   ('2014-08-23', 1042),\n",
       "   ('2014-08-24', 1478),\n",
       "   ('2014-08-25', 1397),\n",
       "   ('2014-08-26', 1189),\n",
       "   ('2014-08-27', 1298),\n",
       "   ('2014-08-28', 1399),\n",
       "   ('2014-08-29', 1458),\n",
       "   ('2014-08-30', 1324),\n",
       "   ('2014-08-31', 1455)]),\n",
       " ('manhattan',\n",
       "  [('2014-08-01', 23663),\n",
       "   ('2014-08-02', 19133),\n",
       "   ('2014-08-03', 15237),\n",
       "   ('2014-08-04', 18535),\n",
       "   ('2014-08-05', 21342),\n",
       "   ('2014-08-06', 22995),\n",
       "   ('2014-08-07', 24821),\n",
       "   ('2014-08-08', 22150),\n",
       "   ('2014-08-09', 17072),\n",
       "   ('2014-08-10', 13226),\n",
       "   ('2014-08-11', 16499),\n",
       "   ('2014-08-12', 22945),\n",
       "   ('2014-08-13', 22752),\n",
       "   ('2014-08-14', 22947),\n",
       "   ('2014-08-15', 20857),\n",
       "   ('2014-08-16', 16924),\n",
       "   ('2014-08-17', 13461),\n",
       "   ('2014-08-18', 15811),\n",
       "   ('2014-08-19', 18397),\n",
       "   ('2014-08-20', 20668),\n",
       "   ('2014-08-21', 24210),\n",
       "   ('2014-08-22', 20826),\n",
       "   ('2014-08-23', 17346),\n",
       "   ('2014-08-24', 13657),\n",
       "   ('2014-08-25', 15394),\n",
       "   ('2014-08-26', 17721),\n",
       "   ('2014-08-27', 19690),\n",
       "   ('2014-08-28', 20561),\n",
       "   ('2014-08-29', 18966),\n",
       "   ('2014-08-30', 15203),\n",
       "   ('2014-08-31', 14798)]),\n",
       " ('staten',\n",
       "  [('2014-08-01', 235),\n",
       "   ('2014-08-02', 190),\n",
       "   ('2014-08-03', 281),\n",
       "   ('2014-08-04', 313),\n",
       "   ('2014-08-05', 202),\n",
       "   ('2014-08-06', 238),\n",
       "   ('2014-08-07', 253),\n",
       "   ('2014-08-08', 245),\n",
       "   ('2014-08-09', 140),\n",
       "   ('2014-08-10', 278),\n",
       "   ('2014-08-11', 285),\n",
       "   ('2014-08-12', 205),\n",
       "   ('2014-08-13', 191),\n",
       "   ('2014-08-14', 243),\n",
       "   ('2014-08-15', 261),\n",
       "   ('2014-08-16', 179),\n",
       "   ('2014-08-17', 270),\n",
       "   ('2014-08-18', 254),\n",
       "   ('2014-08-19', 189),\n",
       "   ('2014-08-20', 231),\n",
       "   ('2014-08-21', 288),\n",
       "   ('2014-08-22', 267),\n",
       "   ('2014-08-23', 179),\n",
       "   ('2014-08-24', 307),\n",
       "   ('2014-08-25', 237),\n",
       "   ('2014-08-26', 237),\n",
       "   ('2014-08-27', 239),\n",
       "   ('2014-08-28', 260),\n",
       "   ('2014-08-29', 269),\n",
       "   ('2014-08-30', 161),\n",
       "   ('2014-08-31', 224)])]"
      ]
     },
     "execution_count": 31,
     "metadata": {},
     "output_type": "execute_result"
    }
   ],
   "source": [
    "def extractUber(partId, records):\n",
    "    if partId==0:\n",
    "        records.next()\n",
    "    import csv\n",
    "    reader = csv.reader(records)\n",
    "    for row in reader:\n",
    "        (pickup, boro) = (row[0].split(\" \")[0],  get_closest_borough(row[1],row[2]))\n",
    "        yield ((boro, pickup), 1)\n",
    "\n",
    "Urdd = uber_aug14.mapPartitionsWithIndex(extractUber)\\\n",
    "                .reduceByKey(lambda x, y: x+y)\\\n",
    "                .map(lambda x: ((x[0][0], datetime.datetime.strptime(x[0][1], \"%m/%d/%Y\").strftime(\"%Y-%m-%d\")), x[1]))\\\n",
    "                .sortBy(lambda x:(x[0][0], x[0][1]))\\\n",
    "                .map(lambda x: (x[0][0], [(x[0][1], x[1])]))\\\n",
    "                .reduceByKey(lambda x, y: (x+y))\n",
    "                \n",
    "Urdd.take(10)"
   ]
  },
  {
   "cell_type": "code",
   "execution_count": 119,
   "metadata": {
    "scrolled": true
   },
   "outputs": [
    {
     "name": "stdout",
     "output_type": "stream",
     "text": [
      "[('2014-08-01', 388), ('2014-08-02', 466), ('2014-08-03', 383), ('2014-08-04', 261), ('2014-08-05', 331), ('2014-08-06', 367), ('2014-08-07', 393), ('2014-08-08', 423), ('2014-08-09', 536), ('2014-08-10', 401)]\n"
     ]
    }
   ],
   "source": [
    "data_uber = Urdd.collect()\n",
    "data_uber_bronx = data_uber[0][1][:]\n",
    "data_uber_brooklyn = data_uber[1][1][:]\n",
    "data_uber_outside_nyc = data_uber[2][1][:]\n",
    "data_uber_queens = data_uber[3][1][:]\n",
    "data_uber_manhattan = data_uber[4][1][:]\n",
    "data_uber_staten = data_uber[5][1][:]\n",
    "print(data_uber_bronx[:10])\n",
    "#, data_uber_brooklyn[:10], data_uber_outside_nyc[:10], data_uber_queens[:10], data_uber_manhattan[:10]"
   ]
  },
  {
   "cell_type": "code",
   "execution_count": 120,
   "metadata": {},
   "outputs": [
    {
     "data": {
      "text/plain": [
       "[('2014-08-01', 388),\n",
       " ('2014-08-02', 466),\n",
       " ('2014-08-03', 383),\n",
       " ('2014-08-04', 261),\n",
       " ('2014-08-05', 331),\n",
       " ('2014-08-06', 367),\n",
       " ('2014-08-07', 393),\n",
       " ('2014-08-08', 423),\n",
       " ('2014-08-09', 536),\n",
       " ('2014-08-10', 401),\n",
       " ('2014-08-11', 311),\n",
       " ('2014-08-12', 362),\n",
       " ('2014-08-13', 364),\n",
       " ('2014-08-14', 400),\n",
       " ('2014-08-15', 373),\n",
       " ('2014-08-16', 511),\n",
       " ('2014-08-17', 422),\n",
       " ('2014-08-18', 318),\n",
       " ('2014-08-19', 324),\n",
       " ('2014-08-20', 397),\n",
       " ('2014-08-21', 384),\n",
       " ('2014-08-22', 420),\n",
       " ('2014-08-23', 512),\n",
       " ('2014-08-24', 375),\n",
       " ('2014-08-25', 350),\n",
       " ('2014-08-26', 359),\n",
       " ('2014-08-27', 386),\n",
       " ('2014-08-28', 430),\n",
       " ('2014-08-29', 450),\n",
       " ('2014-08-30', 533),\n",
       " ('2014-08-31', 454)]"
      ]
     },
     "execution_count": 120,
     "metadata": {},
     "output_type": "execute_result"
    }
   ],
   "source": [
    "data_uber_bronx"
   ]
  },
  {
   "cell_type": "code",
   "execution_count": 121,
   "metadata": {},
   "outputs": [],
   "source": [
    "boros = [data_uber_bronx, data_uber_brooklyn,data_uber_outside_nyc,data_uber_queens,data_uber_manhattan,data_uber_staten]\n",
    "data_array = [[] for y in range(6)] \n",
    "counter = 0\n",
    "for boro in boros:\n",
    "    for i in boro:\n",
    "        data_array[counter].append(i[1])\n",
    "    counter += 1\n",
    "#data_array"
   ]
  },
  {
   "cell_type": "code",
   "execution_count": 122,
   "metadata": {
    "scrolled": true
   },
   "outputs": [
    {
     "data": {
      "text/plain": [
       "6"
      ]
     },
     "execution_count": 122,
     "metadata": {},
     "output_type": "execute_result"
    }
   ],
   "source": [
    "len(data_array)"
   ]
  },
  {
   "cell_type": "code",
   "execution_count": null,
   "metadata": {},
   "outputs": [],
   "source": []
  },
  {
   "cell_type": "code",
   "execution_count": null,
   "metadata": {},
   "outputs": [],
   "source": []
  },
  {
   "cell_type": "code",
   "execution_count": null,
   "metadata": {},
   "outputs": [],
   "source": []
  },
  {
   "cell_type": "code",
   "execution_count": null,
   "metadata": {},
   "outputs": [],
   "source": []
  },
  {
   "cell_type": "code",
   "execution_count": null,
   "metadata": {},
   "outputs": [],
   "source": []
  },
  {
   "cell_type": "code",
   "execution_count": null,
   "metadata": {},
   "outputs": [],
   "source": [
    "'''import datetime\n",
    "# count =0\n",
    "for b in allUber:\n",
    "    bt = datetime.datetime.strptime(b, \"%Y-%m-%d %H:%M:%S\")\n",
    "    for t in lTaxi:\n",
    "        tt = datetime.datetime.strptime(t, \"%Y-%m-%d %H:%M:%S\")\n",
    "        diff = (bt-tt).total_seconds();\n",
    "        if diff > 0 and diff<600:\n",
    "            count+=1\n",
    "            break\n",
    "print(count)'''"
   ]
  },
  {
   "cell_type": "code",
   "execution_count": 123,
   "metadata": {},
   "outputs": [
    {
     "data": {
      "text/plain": [
       "array([0, 0, 0, 0, 0, 0, 0, 0, 0, 0, 0, 0, 0, 0, 0, 0, 0, 0, 0, 0, 0, 0, 0,\n",
       "       0, 0, 0, 0, 0, 0, 0], dtype=int64)"
      ]
     },
     "execution_count": 123,
     "metadata": {},
     "output_type": "execute_result"
    }
   ],
   "source": [
    "values6"
   ]
  },
  {
   "cell_type": "code",
   "execution_count": 127,
   "metadata": {
    "scrolled": true
   },
   "outputs": [
    {
     "data": {
      "image/png": "[encoded data removed]",
      "text/plain": [
       "<matplotlib.figure.Figure at 0xeb19048>"
      ]
     },
     "metadata": {},
     "output_type": "display_data"
    }
   ],
   "source": [
    "# evaluate the histogram\n",
    "values1, base1 = np.histogram(data_array[0], bins=30)\n",
    "values2, base2 = np.histogram(data_array[1], bins=30)\n",
    "values3, base3 = np.histogram(data_array[2], bins=30)\n",
    "values4, base4 = np.histogram(data_array[3], bins=30)\n",
    "values5, base5 = np.histogram(data_array[4], bins=30)\n",
    "#evaluate the cumulative\n",
    "cumulative1 = np.cumsum(values1)\n",
    "cumulative2 = np.cumsum(values2)\n",
    "cumulative3 = np.cumsum(values3)\n",
    "cumulative4 = np.cumsum(values4)\n",
    "cumulative5 = np.cumsum(values5)\n",
    "# plot the cumulative function\n",
    "\n",
    "plt.plot(cumulative1, base2[:-1], c='blue')\n",
    "plt.plot(cumulative2, base2[:-1], c='green')\n",
    "plt.plot(cumulative3, base2[:-1], c='red')\n",
    "plt.plot(cumulative4, base2[:-1], c='yellow')\n",
    "plt.plot(cumulative5, base2[:-1], c='grey')\n",
    "plt.xlabel(\"days in August\")\n",
    "plt.ylabel(\"number of pickup\")\n",
    "plt.show()"
   ]
  },
  {
   "cell_type": "code",
   "execution_count": null,
   "metadata": {},
   "outputs": [],
   "source": []
  }
 ],
 "metadata": {
  "kernelspec": {
   "display_name": "py27",
   "language": "python",
   "name": "py27"
  },
  "language_info": {
   "codemirror_mode": {
    "name": "ipython",
    "version": 2
   },
   "file_extension": ".py",
   "mimetype": "text/x-python",
   "name": "python",
   "nbconvert_exporter": "python",
   "pygments_lexer": "ipython2",
   "version": "2.7.14"
  }
 },
 "nbformat": 4,
 "nbformat_minor": 2
}
