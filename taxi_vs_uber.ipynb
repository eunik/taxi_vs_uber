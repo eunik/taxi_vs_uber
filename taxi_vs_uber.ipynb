{
 "cells": [
  {
   "cell_type": "markdown",
   "metadata": {},
   "source": [
    "# NYC Yellow Taxi Growth\n",
    "\n",
    "#### The objectives of this program:\n",
    "Using the data set that comes from NYC open data of **NYC Yellow Taxi Service** and **Uber Taxi Service** we would like to **analyze the growth** of the NYC Yellow Taxi Service by using the amount of pickups done daily.\n",
    "\n",
    "We will be using correlation between taxi and uber in respective borough to observe the **correlation between the growth rate** of both taxi and uber to help understand how competition impacts pickup amounts. We will also use statistics to help **predict the growth** done within the next few days. We will be using **histograms and line charts** to demonstrate the growth."
   ]
  },
  {
   "cell_type": "code",
   "execution_count": 201,
   "metadata": {},
   "outputs": [
    {
     "data": {
      "text/plain": [
       "<pyspark.context.SparkContext at 0x8c59a58>"
      ]
     },
     "execution_count": 201,
     "metadata": {},
     "output_type": "execute_result"
    }
   ],
   "source": [
    "sc"
   ]
  },
  {
   "cell_type": "code",
   "execution_count": 202,
   "metadata": {},
   "outputs": [],
   "source": [
    "# imports\n",
    "import pandas as pd\n",
    "import numpy as np\n",
    "from geopy.distance import great_circle\n",
    "import matplotlib.pyplot as plt\n",
    "import datetime\n",
    "import csv"
   ]
  },
  {
   "cell_type": "markdown",
   "metadata": {},
   "source": [
    "## Taxi vs Uber"
   ]
  },
  {
   "cell_type": "code",
   "execution_count": 203,
   "metadata": {},
   "outputs": [],
   "source": [
    "taxi_aug14 = sc.textFile('../taxi_aug14_200k.csv'   , use_unicode=False).filter(lambda x: x != \"\").cache()\n",
    "uber_aug14 = sc.textFile('../uber-raw-data-aug14.csv', use_unicode=False).cache()\n",
    "# list(enumerate(taxi_aug14.first().split(',')))\n",
    "# list(enumerate(uber_aug14.first().split(',')))"
   ]
  },
  {
   "cell_type": "markdown",
   "metadata": {},
   "source": [
    "### Borough Estimation\n",
    "\n",
    "We will be using midpoints of each respective boughs to where the coordinates of the bus data lies.  \n",
    "We will use the a default distance of 20 miles as the maximum value away from the midterm (that is Staten Island or Manhattan) ends up being around 20 miles.  \n",
    "If both borough overlap we will use the closest distance. Otherwise, if it doesn't fall in borough distance we will consider it to be outside NYC."
   ]
  },
  {
   "cell_type": "code",
   "execution_count": 204,
   "metadata": {},
   "outputs": [],
   "source": [
    "queensCenter = ((40.800760+40.542920)/2,(-73.700272-73.962616)/2)\n",
    "brookCenter = ((40.739877+40.57042)/2,(-73.864754-74.04344)/2)\n",
    "bronxCenter = ((40.915255+40.785743)/2,(-73.765274-73.933406)/2)\n",
    "manhattanCenter = ((40.874663+40.701293)/2,(-73.910759-74.018721)/2)\n",
    "siCenter = ((40.651812+40.477399)/2,(-74.034547-74.259090)/2)\n",
    "\n",
    "boroughDict = {}\n",
    "boroughDict[\"queens\"] = queensCenter\n",
    "boroughDict[\"brooklyn\"] = brookCenter\n",
    "boroughDict[\"bronx\"] = bronxCenter\n",
    "boroughDict[\"manhattan\"] = manhattanCenter\n",
    "boroughDict[\"staten\"] = siCenter\n",
    "\n",
    "def get_closest_borough(latitude,longitude,max_dist = 20):\n",
    "    global boroughDict\n",
    "    borough_distances = {borough:great_circle(boroughDict[borough],(latitude,longitude)).miles for borough in boroughDict}\n",
    "    min_borough = min(borough_distances, key=borough_distances.get)\n",
    "    if borough_distances[min_borough] < max_dist:\n",
    "        return min_borough \n",
    "    else:\n",
    "        return \"outside_nyc\""
   ]
  },
  {
   "cell_type": "markdown",
   "metadata": {},
   "source": [
    "### Data Ingestion for August 2014 Taxi Data\n",
    "\n",
    "We will clean the data into:  \n",
    "```((boro, pickup, 1)```  \n",
    "Then we will group this data as:  \n",
    "```[boro [(date, count)]]```"
   ]
  },
  {
   "cell_type": "code",
   "execution_count": 205,
   "metadata": {
    "scrolled": true
   },
   "outputs": [],
   "source": [
    "def extractTaxi(partId, records):\n",
    "    if partId==0:\n",
    "        records.next()\n",
    "    reader = csv.reader(records)\n",
    "    for row in reader:\n",
    "        (pickup, boro) = (row[1].split(\" \")[0], get_closest_borough(row[6],row[5]))\n",
    "        yield ((boro, pickup) , 1)\n",
    "\n",
    "trdd = taxi_aug14.mapPartitionsWithIndex(extractTaxi)\\\n",
    "                .reduceByKey(lambda x, y: x+y)\\\n",
    "                .sortBy(lambda x:(x[0][0], x[0][1]))\\\n",
    "                .map(lambda x: (x[0][0], [(x[0][1], x[1])]))\\\n",
    "                .reduceByKey(lambda x, y: (x+y))\n",
    "#trdd.take(10)"
   ]
  },
  {
   "cell_type": "markdown",
   "metadata": {},
   "source": [
    "### Data Ingestion for August 2014 Uber Data\n",
    "\n",
    "Just like the taxi data, we will format the Uber data just the same."
   ]
  },
  {
   "cell_type": "code",
   "execution_count": 206,
   "metadata": {},
   "outputs": [],
   "source": [
    "def extractUber(partId, records):\n",
    "    if partId==0:\n",
    "        records.next()\n",
    "    import csv\n",
    "    reader = csv.reader(records)\n",
    "    for row in reader:\n",
    "        (pickup, boro) = (row[0].split(\" \")[0],  get_closest_borough(row[1],row[2]))\n",
    "        yield ((boro, pickup), 1)\n",
    "\n",
    "urdd = uber_aug14.mapPartitionsWithIndex(extractUber)\\\n",
    "                .reduceByKey(lambda x, y: x+y)\\\n",
    "                .map(lambda x: ((x[0][0], datetime.datetime.strptime(x[0][1], \"%m/%d/%Y\").strftime(\"%Y-%m-%d\")), x[1]))\\\n",
    "                .sortBy(lambda x:(x[0][0], x[0][1]))\\\n",
    "                .map(lambda x: (x[0][0], [(x[0][1], x[1])]))\\\n",
    "                .reduceByKey(lambda x, y: (x+y))             \n",
    "#urdd.take(10)"
   ]
  },
  {
   "cell_type": "markdown",
   "metadata": {},
   "source": [
    "##### This function will get data from either of the dataset"
   ]
  },
  {
   "cell_type": "code",
   "execution_count": 207,
   "metadata": {},
   "outputs": [],
   "source": [
    "# gets data given a key\n",
    "def get_data(data, key):\n",
    "    # returns ALL of the amounts\n",
    "    if key == -1:\n",
    "        return urdd.values().map(lambda x: list(zip(*x)[1])).collect()\n",
    "    data = zip(*data.collect()[key][1])[1]\n",
    "    if data:\n",
    "        return data\n",
    "    print \"None found\"\n",
    "    return []\n",
    "\n",
    "lboro = ['bronx','brooklyn', 'manhattan', 'staten', 'queens']"
   ]
  },
  {
   "cell_type": "markdown",
   "metadata": {},
   "source": [
    "### Line Graph for Taxi vs Uber"
   ]
  },
  {
   "cell_type": "markdown",
   "metadata": {},
   "source": [
    "### Cumilative Line Graph for Taxi vs Uber"
   ]
  },
  {
   "cell_type": "code",
   "execution_count": 211,
   "metadata": {
    "scrolled": false
   },
   "outputs": [],
   "source": [
    "uvb = [[],[],[],[],[]]\n",
    "tvb = [[],[],[],[],[]]\n",
    "# evaluate the histogram\n",
    "tvb[0] = list(np.histogram(get_data(trdd, 0), bins=30))\n",
    "tvb[1] = list(np.histogram(get_data(trdd, 1), bins=30))\n",
    "tvb[2] = list(np.histogram(get_data(trdd, 2), bins=30))\n",
    "tvb[3] = list(np.histogram(get_data(trdd, 4), bins=30))\n",
    "tvb[4] = list(np.histogram(get_data(trdd, 5), bins=30))\n",
    "\n",
    "uvb[0] = list(np.histogram(get_data(urdd, 0), bins=30))\n",
    "uvb[1] = list(np.histogram(get_data(urdd, 1), bins=30))\n",
    "uvb[2] = list(np.histogram(get_data(urdd, 2), bins=30))\n",
    "uvb[3] = list(np.histogram(get_data(urdd, 4), bins=30))\n",
    "uvb[4] = list(np.histogram(get_data(urdd, 5), bins=30))\n",
    "\n",
    "#evaluate the cumulative\n",
    "tvb[0][0] = np.cumsum(tvb[0][0])\n",
    "tvb[1][0] = np.cumsum(tvb[1][0])\n",
    "tvb[2][0] = np.cumsum(tvb[2][0])\n",
    "tvb[3][0] = np.cumsum(tvb[3][0])\n",
    "tvb[4][0] = np.cumsum(tvb[4][0])\n",
    "\n",
    "uvb[0][0] = np.cumsum(uvb[0][0])\n",
    "uvb[1][0] = np.cumsum(uvb[1][0])\n",
    "uvb[2][0] = np.cumsum(uvb[2][0])\n",
    "uvb[3][0] = np.cumsum(uvb[3][0])\n",
    "uvb[4][0] = np.cumsum(uvb[4][0])"
   ]
  },
  {
   "cell_type": "code",
   "execution_count": 213,
   "metadata": {},
   "outputs": [
    {
     "data": {
      "image/png": "[encoded data removed]",
      "text/plain": [
       "<matplotlib.figure.Figure at 0xbd10550>"
      ]
     },
     "metadata": {},
     "output_type": "display_data"
    },
    {
     "data": {
      "image/png": "[encoded data removed]",
      "text/plain": [
       "<matplotlib.figure.Figure at 0xe49f0b8>"
      ]
     },
     "metadata": {},
     "output_type": "display_data"
    },
    {
     "data": {
      "image/png": "[encoded data removed]",
      "text/plain": [
       "<matplotlib.figure.Figure at 0xe4d3f60>"
      ]
     },
     "metadata": {},
     "output_type": "display_data"
    },
    {
     "data": {
      "image/png": "[encoded data removed]",
      "text/plain": [
       "<matplotlib.figure.Figure at 0xbcb4dd8>"
      ]
     },
     "metadata": {},
     "output_type": "display_data"
    },
    {
     "data": {
      "image/png": "[encoded data removed]",
      "text/plain": [
       "<matplotlib.figure.Figure at 0xe4bf320>"
      ]
     },
     "metadata": {},
     "output_type": "display_data"
    }
   ],
   "source": [
    "# plot the cumulative functions\n",
    "def make_accum_graph(key):\n",
    "    plt.plot(tvb[key][0], tvb[key][1][:-1], c='blue', label = 'taxi')\n",
    "    plt.plot(uvb[key][0], uvb[key][1][:-1], c='red', label = 'uber')\n",
    "    plt.title(lboro[key])\n",
    "    plt.legend(loc='best')\n",
    "    plt.xlabel('months')\n",
    "    plt.ylabel('pickups')\n",
    "    plt.show()\n",
    "    \n",
    "for i in range(5):\n",
    "    make_accum_graph(i)\n",
    "    "
   ]
  },
  {
   "cell_type": "markdown",
   "metadata": {},
   "source": [
    "## Growth Rate Comparison\n",
    "\n",
    "Then we will make growth rate comparison using histograph of boro based in seperate squares to get a better idea of increase and decrease correlation for both statistics."
   ]
  },
  {
   "cell_type": "code",
   "execution_count": 34,
   "metadata": {
    "scrolled": true
   },
   "outputs": [
    {
     "ename": "SyntaxError",
     "evalue": "invalid syntax (<ipython-input-34-426e870a1e12>, line 1)",
     "output_type": "error",
     "traceback": [
      "\u001b[1;36m  File \u001b[1;32m\"<ipython-input-34-426e870a1e12>\"\u001b[1;36m, line \u001b[1;32m1\u001b[0m\n\u001b[1;33m    ug_rate = map(lambda x: (reduce(lambda y, z: (z-y)/float(z)), x, []), get_data(urdd,:))\u001b[0m\n\u001b[1;37m                                                                                        ^\u001b[0m\n\u001b[1;31mSyntaxError\u001b[0m\u001b[1;31m:\u001b[0m invalid syntax\n"
     ]
    }
   ],
   "source": [
    "ug_rate = map(lambda x: (reduce(lambda y, z: (z-y)/float(z)), x, []), get_data(urdd,:))"
   ]
  },
  {
   "cell_type": "markdown",
   "metadata": {},
   "source": [
    "## Prediction"
   ]
  },
  {
   "cell_type": "code",
   "execution_count": null,
   "metadata": {},
   "outputs": [],
   "source": [
    "from sklearn.linear_model import LinearRegression\n",
    "from sklearn.linear_model import Lasso\n",
    "from sklearn.linear_model import Ridge\n",
    "from sklearn.linear_model import ElasticNet"
   ]
  },
  {
   "cell_type": "code",
   "execution_count": 260,
   "metadata": {},
   "outputs": [],
   "source": [
    "columns = ['boro', 'days_in_month', 'number_of_pickup']\n",
    "dic_boro = {'bronx': 0, 'brooklyn': 1, 'manhattan': 2, 'outside_nyc': 3, 'queens': 4, 'staten': 5}"
   ]
  },
  {
   "cell_type": "code",
   "execution_count": 262,
   "metadata": {},
   "outputs": [],
   "source": [
    "Urdd_table = uber_aug14.mapPartitionsWithIndex(extractUber)\\\n",
    "                .reduceByKey(lambda x, y: x+y)\\\n",
    "                .map(lambda x: ((x[0][0], datetime.datetime.strptime(x[0][1], \"%m/%d/%Y\").strftime(\"%Y-%m-%d\")), x[1]))\\\n",
    "                .sortBy(lambda x:(x[0][0], x[0][1]))\\\n",
    "                .map(lambda x: (dic_boro[x[0][0]], int(datetime.datetime.strptime(x[0][1], \"%Y-%m-%d\").strftime(\"%d\")),x[1]))\n",
    "                               # (x[1]-min_boro[dic_boro[x[0][0]]])/(max_boro[dic_boro[x[0][0]]]- min_boro[dic_boro[x[0][0]]])))"
   ]
  },
  {
   "cell_type": "code",
   "execution_count": 281,
   "metadata": {},
   "outputs": [
    {
     "data": {
      "text/plain": [
       "[(0, 1, 388),\n",
       " (0, 2, 466),\n",
       " (0, 3, 383),\n",
       " (0, 4, 261),\n",
       " (0, 5, 331),\n",
       " (0, 6, 367),\n",
       " (0, 7, 393),\n",
       " (0, 8, 423),\n",
       " (0, 9, 536),\n",
       " (0, 10, 401),\n",
       " (0, 11, 311),\n",
       " (0, 12, 362),\n",
       " (0, 13, 364),\n",
       " (0, 14, 400),\n",
       " (0, 15, 373),\n",
       " (0, 16, 511),\n",
       " (0, 17, 422),\n",
       " (0, 18, 318),\n",
       " (0, 19, 324),\n",
       " (0, 20, 397),\n",
       " (0, 21, 384),\n",
       " (0, 22, 420),\n",
       " (0, 23, 512),\n",
       " (0, 24, 375),\n",
       " (0, 25, 350),\n",
       " (0, 26, 359),\n",
       " (0, 27, 386),\n",
       " (0, 28, 430),\n",
       " (0, 29, 450),\n",
       " (0, 30, 533),\n",
       " (0, 31, 454),\n",
       " (1, 1, 6843),\n",
       " (1, 2, 7654),\n",
       " (1, 3, 5704),\n",
       " (1, 4, 4557),\n",
       " (1, 5, 5276),\n",
       " (1, 6, 5865),\n",
       " (1, 7, 6325),\n",
       " (1, 8, 6532),\n",
       " (1, 9, 7361),\n",
       " (1, 10, 5269),\n",
       " (1, 11, 4354),\n",
       " (1, 12, 5273),\n",
       " (1, 13, 5414),\n",
       " (1, 14, 5804),\n",
       " (1, 15, 6363),\n",
       " (1, 16, 7408),\n",
       " (1, 17, 5642),\n",
       " (1, 18, 4483),\n",
       " (1, 19, 4884)]"
      ]
     },
     "execution_count": 281,
     "metadata": {},
     "output_type": "execute_result"
    }
   ],
   "source": [
    "Urdd_table.collect()[:50]"
   ]
  },
  {
   "cell_type": "code",
   "execution_count": 282,
   "metadata": {},
   "outputs": [],
   "source": [
    "import pandas as pd\n",
    "from sklearn.model_selection import train_test_split"
   ]
  },
  {
   "cell_type": "code",
   "execution_count": 363,
   "metadata": {
    "scrolled": true
   },
   "outputs": [
    {
     "data": {
      "text/plain": [
       "\"df = pd.DataFrame(Urdd_table.collect(), columns=columns)\\ndf_boro = [[],[],[],[],[],[]]\\nfor i in range(6):\\n    for j in range(len(df)):\\n        if df['boro'][j] == i:\\n            df_boro[i].append(df.loc[j].values)\\n\""
      ]
     },
     "execution_count": 363,
     "metadata": {},
     "output_type": "execute_result"
    }
   ],
   "source": [
    "df_urdd = Urdd_table.collect()\n",
    "'''df = pd.DataFrame(Urdd_table.collect(), columns=columns)\n",
    "df_boro = [[],[],[],[],[],[]]\n",
    "for i in range(6):\n",
    "    for j in range(len(df)):\n",
    "        if df['boro'][j] == i:\n",
    "            df_boro[i].append(df.loc[j].values)\n",
    "'''\n"
   ]
  },
  {
   "cell_type": "code",
   "execution_count": 372,
   "metadata": {},
   "outputs": [],
   "source": [
    "df_boro = [[],[],[],[],[],[]]\n",
    "for i in range(6):\n",
    "    for item in df_urdd:\n",
    "        if item[0] == i:\n",
    "            df_boro[i].append(item)\n",
    "for i in range(6):\n",
    "    df_boro[i] = pd.DataFrame(df_boro[i], columns=columns)"
   ]
  },
  {
   "cell_type": "code",
   "execution_count": 381,
   "metadata": {},
   "outputs": [
    {
     "name": "stdout",
     "output_type": "stream",
     "text": [
      "((18L, 2L), (2L,), (13L, 2L))\n",
      "((18L, 2L), (2L,), (13L, 2L))\n",
      "((18L, 2L), (2L,), (13L, 2L))\n",
      "((18L, 2L), (2L,), (13L, 2L))\n",
      "((18L, 2L), (2L,), (13L, 2L))\n",
      "((18L, 2L), (2L,), (13L, 2L))\n"
     ]
    }
   ],
   "source": [
    "X = [[],[],[],[],[],[]]\n",
    "y =[[],[],[],[],[],[]]\n",
    "X_train=[[],[],[],[],[],[]]\n",
    "X_test=[[],[],[],[],[],[]]\n",
    "y_train=[[],[],[],[],[],[]] \n",
    "y_test=[[],[],[],[],[],[]]\n",
    "for i in range(6):\n",
    "    X[i] = df_boro[i][['boro', 'days_in_month']].values\n",
    "    y[i] = df_boro[i][['number_of_pickup']].values\n",
    "    X_train[i], X_test[i], y_train[i], y_test[i] = train_test_split(X[i], y[i], test_size=0.4, random_state=1)\n",
    "    print(X_train[i].shape, X_validation[i].shape, X_test[i].shape)"
   ]
  },
  {
   "cell_type": "code",
   "execution_count": 382,
   "metadata": {},
   "outputs": [
    {
     "ename": "IndentationError",
     "evalue": "unexpected indent (<ipython-input-382-917dc6b429bf>, line 2)",
     "output_type": "error",
     "traceback": [
      "\u001b[1;36m  File \u001b[1;32m\"<ipython-input-382-917dc6b429bf>\"\u001b[1;36m, line \u001b[1;32m2\u001b[0m\n\u001b[1;33m    X_train, X_test, y_train, y_test = train_test_split(X, y, test_size=0.4, random_state=1)\u001b[0m\n\u001b[1;37m    ^\u001b[0m\n\u001b[1;31mIndentationError\u001b[0m\u001b[1;31m:\u001b[0m unexpected indent\n"
     ]
    }
   ],
   "source": [
    "\n",
    "    X_train, X_test, y_train, y_test = train_test_split(X, y, test_size=0.4, random_state=1)\n",
    "    X_validation, X_test, y_validation, y_test = train_test_split(X_test, y_test, test_size=0.5, random_state=1)\n",
    "    print(X_train.shape, X_validation.shape, X_test.shape)"
   ]
  },
  {
   "cell_type": "code",
   "execution_count": null,
   "metadata": {},
   "outputs": [],
   "source": []
  },
  {
   "cell_type": "code",
   "execution_count": 383,
   "metadata": {},
   "outputs": [],
   "source": [
    "linear_r = LinearRegression()\n",
    "lasso_r = Lasso()\n",
    "ridge_r = Ridge(alpha=1.0)\n",
    "elastic_r = ElasticNet(alpha=1, l1_ratio=0.5)"
   ]
  },
  {
   "cell_type": "code",
   "execution_count": 389,
   "metadata": {},
   "outputs": [
    {
     "name": "stdout",
     "output_type": "stream",
     "text": [
      "[ 391.43228537  393.7936316   396.15497783  398.51632406  400.87767029\n",
      "  403.23901653  405.60036276  407.96170899  410.32305522  412.68440145\n",
      "  415.04574768  417.40709391  419.76844015  422.12978638  424.49113261\n",
      "  426.85247884  429.21382507  431.5751713   433.93651753  436.29786376\n",
      "  438.65921     441.02055623  443.38190246  445.74324869  448.10459492\n",
      "  450.46594115  452.82728738  455.18863362  457.54997985  459.91132608\n",
      "  462.27267231]\n",
      "[ 6267.3337364   6258.20757759  6249.08141878  6239.95525998  6230.82910117\n",
      "  6221.70294236  6212.57678356  6203.45062475  6194.32446594  6185.19830713\n",
      "  6176.07214833  6166.94598952  6157.81983071  6148.69367191  6139.5675131\n",
      "  6130.44135429  6121.31519549  6112.18903668  6103.06287787  6093.93671906\n",
      "  6084.81056026  6075.68440145  6066.55824264  6057.43208384  6048.30592503\n",
      "  6039.17976622  6030.05360742  6020.92744861  6011.8012898   6002.675131\n",
      "  5993.54897219]\n",
      "[ 21184.90628779  21031.7382104   20878.57013301  20725.40205562\n",
      "  20572.23397823  20419.06590085  20265.89782346  20112.72974607\n",
      "  19959.56166868  19806.39359129  19653.22551391  19500.05743652\n",
      "  19346.88935913  19193.72128174  19040.55320435  18887.38512696\n",
      "  18734.21704958  18581.04897219  18427.8808948   18274.71281741\n",
      "  18121.54474002  17968.37666264  17815.20858525  17662.04050786\n",
      "  17508.87243047  17355.70435308  17202.5362757   17049.36819831\n",
      "  16896.20012092  16743.03204353  16589.86396614]\n",
      "[ 43.81015719  45.06428859  46.31841999  47.57255139  48.82668279\n",
      "  50.08081419  51.33494559  52.58907699  53.84320838  55.09733978\n",
      "  56.35147118  57.60560258  58.85973398  60.11386538  61.36799678\n",
      "  62.62212817  63.87625957  65.13039097  66.38452237  67.63865377\n",
      "  68.89278517  70.14691657  71.40104796  72.65517936  73.90931076\n",
      "  75.16344216  76.41757356  77.67170496  78.92583636  80.17996775\n",
      "  81.43409915]\n",
      "[ 1038.57396211  1048.92382104  1059.27367997  1069.6235389   1079.97339782\n",
      "  1090.32325675  1100.67311568  1111.02297461  1121.37283353  1131.72269246\n",
      "  1142.07255139  1152.42241032  1162.77226925  1173.12212817  1183.4719871\n",
      "  1193.82184603  1204.17170496  1214.52156389  1224.87142281  1235.22128174\n",
      "  1245.57114067  1255.9209996   1266.27085852  1276.62071745  1286.97057638\n",
      "  1297.32043531  1307.67029424  1318.02015316  1328.37001209  1338.71987102\n",
      "  1349.06972995]\n",
      "[ 227.55401048  227.31539702  227.07678356  226.83817009  226.59955663\n",
      "  226.36094317  226.12232971  225.88371624  225.64510278  225.40648932\n",
      "  225.16787586  224.92926239  224.69064893  224.45203547  224.21342201\n",
      "  223.97480854  223.73619508  223.49758162  223.25896816  223.0203547\n",
      "  222.78174123  222.54312777  222.30451431  222.06590085  221.82728738\n",
      "  221.58867392  221.35006046  221.111447    220.87283353  220.63422007\n",
      "  220.39560661]\n"
     ]
    },
    {
     "data": {
      "text/plain": [
       "\"    print(' accuracy of Linear regression: ',\\n      linear_r.score(X_test[i], y_test[i]),\\n      'accuracy of Lasso: ',\\n      lasso_r.score(X_test[i], y_test[i]),\\n      'accuracy of Ridge regression: ',\\n      ridge_r.score(X_test[i], y_test[i]),\\n      'accuracy of Elastic net: ',\\n      elastic_r.score(X_test[i], y_test[i])\\n     )\""
      ]
     },
     "execution_count": 389,
     "metadata": {},
     "output_type": "execute_result"
    }
   ],
   "source": [
    "for i in range(6):\n",
    "    linear_r.fit(X_train[i], y_train[i])\n",
    "    lasso_r.fit(X_train[i], y_train[i])\n",
    "    ridge_r.fit(X_train[i], y_train[i])\n",
    "    elastic_r.fit(X_train[i], y_train[i])\n",
    "    print(lasso_r.predict(df_boro[i][['boro', 'days_in_month']].values))\n",
    "'''    print(' accuracy of Linear regression: ',\n",
    "      linear_r.score(X_test[i], y_test[i]),\n",
    "      'accuracy of Lasso: ',\n",
    "      lasso_r.score(X_test[i], y_test[i]),\n",
    "      'accuracy of Ridge regression: ',\n",
    "      ridge_r.score(X_test[i], y_test[i]),\n",
    "      'accuracy of Elastic net: ',\n",
    "      elastic_r.score(X_test[i], y_test[i])\n",
    "     )'''"
   ]
  },
  {
   "cell_type": "code",
   "execution_count": null,
   "metadata": {},
   "outputs": [],
   "source": []
  },
  {
   "cell_type": "code",
   "execution_count": null,
   "metadata": {},
   "outputs": [],
   "source": []
  },
  {
   "cell_type": "code",
   "execution_count": null,
   "metadata": {},
   "outputs": [],
   "source": []
  },
  {
   "cell_type": "code",
   "execution_count": null,
   "metadata": {},
   "outputs": [],
   "source": []
  },
  {
   "cell_type": "code",
   "execution_count": null,
   "metadata": {},
   "outputs": [],
   "source": []
  }
 ],
 "metadata": {
  "kernelspec": {
   "display_name": "py27",
   "language": "python",
   "name": "py27"
  },
  "language_info": {
   "codemirror_mode": {
    "name": "ipython",
    "version": 2
   },
   "file_extension": ".py",
   "mimetype": "text/x-python",
   "name": "python",
   "nbconvert_exporter": "python",
   "pygments_lexer": "ipython2",
   "version": "2.7.14"
  }
 },
 "nbformat": 4,
 "nbformat_minor": 2
}
