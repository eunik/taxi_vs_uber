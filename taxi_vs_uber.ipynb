{
 "cells": [
  {
   "cell_type": "markdown",
   "metadata": {},
   "source": [
    "# NYC Yellow Taxi Growth\n",
    "\n",
    "#### The objectives of this program:\n",
    "Using the data set that comes from NYC open data of **NYC Yellow Taxi Service** and **Uber Taxi Service** we would like to **analyze the growth** of the NYC Yellow Taxi Service by using the amount of pickups done daily.\n",
    "\n",
    "We will be using correlation between taxi and uber in respective borough to observe the **correlation between the growth rate** of both taxi and uber to help understand how competition impacts pickup amounts. We will also use statistics to help **predict the growth** done within the next few days. We will be using **histograms and line charts** to demonstrate the growth."
   ]
  },
  {
   "cell_type": "code",
   "execution_count": 1,
   "metadata": {},
   "outputs": [
    {
     "data": {
      "text/plain": [
       "<pyspark.context.SparkContext at 0x6753d68>"
      ]
     },
     "execution_count": 1,
     "metadata": {},
     "output_type": "execute_result"
    }
   ],
   "source": [
    "sc"
   ]
  },
  {
   "cell_type": "code",
   "execution_count": 2,
   "metadata": {},
   "outputs": [],
   "source": [
    "# imports\n",
    "import pandas as pd\n",
    "import numpy as np\n",
    "from geopy.distance import great_circle\n",
    "import matplotlib.pyplot as plt\n",
    "import datetime\n",
    "import csv"
   ]
  },
  {
   "cell_type": "markdown",
   "metadata": {},
   "source": [
    "## Taxi vs Uber"
   ]
  },
  {
   "cell_type": "code",
   "execution_count": 3,
   "metadata": {},
   "outputs": [],
   "source": [
    "taxi_aug14 = sc.textFile('../taxi_aug14_200k.csv'   , use_unicode=False).filter(lambda x: x != \"\").cache()\n",
    "uber_aug14 = sc.textFile('../uber-raw-data-aug14.csv', use_unicode=False).cache()\n",
    "# list(enumerate(taxi_aug14.first().split(',')))\n",
    "# list(enumerate(uber_aug14.first().split(',')))"
   ]
  },
  {
   "cell_type": "markdown",
   "metadata": {},
   "source": [
    "### Borough Estimation\n",
    "\n",
    "We will be using midpoints of each respective boughs to where the coordinates of the bus data lies.  \n",
    "We will use the a default distance of 20 miles as the maximum value away from the midterm (that is Staten Island or Manhattan) ends up being around 20 miles.  \n",
    "If both borough overlap we will use the closest distance. Otherwise, if it doesn't fall in borough distance we will consider it to be outside NYC."
   ]
  },
  {
   "cell_type": "code",
   "execution_count": 4,
   "metadata": {},
   "outputs": [],
   "source": [
    "queensCenter = ((40.800760+40.542920)/2,(-73.700272-73.962616)/2)\n",
    "brookCenter = ((40.739877+40.57042)/2,(-73.864754-74.04344)/2)\n",
    "bronxCenter = ((40.915255+40.785743)/2,(-73.765274-73.933406)/2)\n",
    "manhattanCenter = ((40.874663+40.701293)/2,(-73.910759-74.018721)/2)\n",
    "siCenter = ((40.651812+40.477399)/2,(-74.034547-74.259090)/2)\n",
    "\n",
    "boroughDict = {}\n",
    "boroughDict[\"queens\"] = queensCenter\n",
    "boroughDict[\"brooklyn\"] = brookCenter\n",
    "boroughDict[\"bronx\"] = bronxCenter\n",
    "boroughDict[\"manhattan\"] = manhattanCenter\n",
    "boroughDict[\"staten\"] = siCenter\n",
    "\n",
    "def get_closest_borough(latitude,longitude,max_dist = 20):\n",
    "    global boroughDict\n",
    "    borough_distances = {borough:great_circle(boroughDict[borough],(latitude,longitude)).miles for borough in boroughDict}\n",
    "    min_borough = min(borough_distances, key=borough_distances.get)\n",
    "    if borough_distances[min_borough] < max_dist:\n",
    "        return min_borough \n",
    "    else:\n",
    "        return \"outside_nyc\""
   ]
  },
  {
   "cell_type": "markdown",
   "metadata": {},
   "source": [
    "### Data Ingestion for August 2014 Taxi Data\n",
    "\n",
    "We will clean the data into:  \n",
    "```((boro, pickup, 1)```  \n",
    "Then we will group this data as:  \n",
    "```[boro [(date, count)]]```"
   ]
  },
  {
   "cell_type": "code",
   "execution_count": 5,
   "metadata": {
    "scrolled": true
   },
   "outputs": [],
   "source": [
    "def extractTaxi(partId, records):\n",
    "    if partId==0:\n",
    "        records.next()\n",
    "    reader = csv.reader(records)\n",
    "    for row in reader:\n",
    "        (pickup, boro) = (row[1].split(\" \")[0], get_closest_borough(row[6],row[5]))\n",
    "        yield ((boro, pickup) , 1)\n",
    "\n",
    "trdd = taxi_aug14.mapPartitionsWithIndex(extractTaxi)\\\n",
    "                .reduceByKey(lambda x, y: x+y)\\\n",
    "                .sortBy(lambda x:(x[0][0], x[0][1]))\\\n",
    "                .map(lambda x: (x[0][0], [(x[0][1], x[1])]))\\\n",
    "                .reduceByKey(lambda x, y: (x+y))\n",
    "#trdd.take(10)"
   ]
  },
  {
   "cell_type": "markdown",
   "metadata": {},
   "source": [
    "### Data Ingestion for August 2014 Uber Data\n",
    "\n",
    "Just like the taxi data, we will format the Uber data just the same."
   ]
  },
  {
   "cell_type": "code",
   "execution_count": 6,
   "metadata": {},
   "outputs": [],
   "source": [
    "def extractUber(partId, records):\n",
    "    if partId==0:\n",
    "        records.next()\n",
    "    import csv\n",
    "    reader = csv.reader(records)\n",
    "    for row in reader:\n",
    "        (pickup, boro) = (row[0].split(\" \")[0],  get_closest_borough(row[1],row[2]))\n",
    "        yield ((boro, pickup), 1)\n",
    "\n",
    "urdd = uber_aug14.mapPartitionsWithIndex(extractUber)\\\n",
    "                .reduceByKey(lambda x, y: x+y)\\\n",
    "                .map(lambda x: ((x[0][0], datetime.datetime.strptime(x[0][1], \"%m/%d/%Y\").strftime(\"%Y-%m-%d\")), x[1]))\\\n",
    "                .sortBy(lambda x:(x[0][0], x[0][1]))\\\n",
    "                .map(lambda x: (x[0][0], [(x[0][1], x[1])]))\\\n",
    "                .reduceByKey(lambda x, y: (x+y))             \n",
    "#urdd.take(10)"
   ]
  },
  {
   "cell_type": "markdown",
   "metadata": {},
   "source": [
    "### Getting Uber Data from Respective Boroughs\n",
    "\n",
    "We will preparing this data for data analsis."
   ]
  },
  {
   "cell_type": "code",
   "execution_count": 34,
   "metadata": {},
   "outputs": [],
   "source": [
    "# gets data given a key\n",
    "def get_data(data, key):\n",
    "    data = zip(*data.collect()[key][1])[1]\n",
    "    if data:\n",
    "        return data\n",
    "    else:\n",
    "        print \"None found\"\n",
    "        return []\n",
    "\n",
    "lboro = ['bronx','brooklyn', 'manhattan', 'staten', 'queens']"
   ]
  },
  {
   "cell_type": "code",
   "execution_count": 21,
   "metadata": {},
   "outputs": [
    {
     "data": {
      "text/plain": [
       "'import datetime\\n# count =0\\nfor b in allUber:\\n    bt = datetime.datetime.strptime(b, \"%Y-%m-%d %H:%M:%S\")\\n    for t in lTaxi:\\n        tt = datetime.datetime.strptime(t, \"%Y-%m-%d %H:%M:%S\")\\n        diff = (bt-tt).total_seconds();\\n        if diff > 0 and diff<600:\\n            count+=1\\n            break\\nprint(count)'"
      ]
     },
     "execution_count": 21,
     "metadata": {},
     "output_type": "execute_result"
    }
   ],
   "source": [
    "'''import datetime\n",
    "# count =0\n",
    "for b in allUber:\n",
    "    bt = datetime.datetime.strptime(b, \"%Y-%m-%d %H:%M:%S\")\n",
    "    for t in lTaxi:\n",
    "        tt = datetime.datetime.strptime(t, \"%Y-%m-%d %H:%M:%S\")\n",
    "        diff = (bt-tt).total_seconds();\n",
    "        if diff > 0 and diff<600:\n",
    "            count+=1\n",
    "            break\n",
    "print(count)'''"
   ]
  },
  {
   "cell_type": "markdown",
   "metadata": {},
   "source": [
    "### Cumilative Line Graph for Uber"
   ]
  },
  {
   "cell_type": "code",
   "execution_count": 33,
   "metadata": {
    "scrolled": true
   },
   "outputs": [
    {
     "data": {
      "image/png": "[encoded data removed]",
      "text/plain": [
       "<Figure size 432x288 with 1 Axes>"
      ]
     },
     "metadata": {},
     "output_type": "display_data"
    }
   ],
   "source": [
    "# evaluate the histogram\n",
    "values1, base1 = np.histogram(get_data(urdd, 0), bins=30)\n",
    "values2, base2 = np.histogram(get_data(urdd, 1), bins=30)\n",
    "values3, base3 = np.histogram(get_data(urdd, 2), bins=30)\n",
    "values4, base4 = np.histogram(get_data(urdd, 3), bins=30)\n",
    "values5, base5 = np.histogram(get_data(urdd, 4), bins=30)\n",
    "#evaluate the cumulative\n",
    "cumulative1 = np.cumsum(values1)\n",
    "cumulative2 = np.cumsum(values2)\n",
    "cumulative3 = np.cumsum(values3)\n",
    "cumulative4 = np.cumsum(values4)\n",
    "cumulative5 = np.cumsum(values5)\n",
    "# plot the cumulative function\n",
    "\n",
    "plt.plot(cumulative1, map(lambda x: x / base1[0], base1[:-1]), c='blue', label = lboro[0])\n",
    "plt.plot(cumulative2, map(lambda x: x / base2[0], base2[:-1]), c='green', label = lboro[1])\n",
    "#plt.plot(cumulative3, map(lambda x: x / base3[0], base3[:-1]), c='red', label = lboro[]')\n",
    "plt.plot(cumulative4, map(lambda x: x / base4[0], base4[:-1]), c='yellow', label = lboro[2])\n",
    "plt.plot(cumulative5, map(lambda x: x / base5[0], base5[:-1]), c='grey', label =lboro[3])\n",
    "plt.legend(loc='best')\n",
    "plt.show()"
   ]
  },
  {
   "cell_type": "markdown",
   "metadata": {},
   "source": [
    "## Growth Rate Comparison\n",
    "\n",
    "Then we will make growth rate comparison using histograph of boro based in seperate squares to get a better idea of increase and decrease correlation for both statistics."
   ]
  },
  {
   "cell_type": "code",
   "execution_count": null,
   "metadata": {},
   "outputs": [],
   "source": [
    "ug_rate = map(lambda x: (reduce(lambda y, z: (z-y)/float(z)), x, []), udata)"
   ]
  }
 ],
 "metadata": {
  "kernelspec": {
   "display_name": "Python 2",
   "language": "python",
   "name": "python2"
  },
  "language_info": {
   "codemirror_mode": {
    "name": "ipython",
    "version": 2
   },
   "file_extension": ".py",
   "mimetype": "text/x-python",
   "name": "python",
   "nbconvert_exporter": "python",
   "pygments_lexer": "ipython2",
   "version": "2.7.14"
  }
 },
 "nbformat": 4,
 "nbformat_minor": 2
}
