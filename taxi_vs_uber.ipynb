{
 "cells": [
  {
   "cell_type": "code",
   "execution_count": 2,
   "metadata": {},
   "outputs": [
    {
     "data": {
      "text/plain": [
       "<pyspark.context.SparkContext at 0x889e9e8>"
      ]
     },
     "execution_count": 2,
     "metadata": {},
     "output_type": "execute_result"
    }
   ],
   "source": [
    "sc"
   ]
  },
  {
   "cell_type": "code",
   "execution_count": 22,
   "metadata": {},
   "outputs": [
    {
     "data": {
      "text/plain": [
       "[(0, 'VTS'),\n",
       " (1, '2014-08-06 07:24:00'),\n",
       " (2, '2014-08-06 07:33:00'),\n",
       " (3, '1'),\n",
       " (4, '1.76'),\n",
       " (5, '-73.956327000000002'),\n",
       " (6, '40.767992'),\n",
       " (7, '1'),\n",
       " (8, ''),\n",
       " (9, '-73.977829999999997'),\n",
       " (10, '40.761262000000002'),\n",
       " (11, 'CSH'),\n",
       " (12, '8.5'),\n",
       " (13, '0'),\n",
       " (14, '0.5'),\n",
       " (15, '0'),\n",
       " (16, '0'),\n",
       " (17, '9')]"
      ]
     },
     "execution_count": 22,
     "metadata": {},
     "output_type": "execute_result"
    }
   ],
   "source": [
    "taxi_aug14 = sc.textFile('taxi_aug_14_1000.csv'   , use_unicode=False).cache()\n",
    "uber_aug14 = sc.textFile('uber-raw-data-aug14.csv', use_unicode=False).cache()\n",
    "# list(enumerate(taxi_aug14.first().split(',')))\n",
    "# list(enumerate(uber_aug14.first().split(',')))"
   ]
  },
  {
   "cell_type": "code",
   "execution_count": 24,
   "metadata": {
    "scrolled": false
   },
   "outputs": [
    {
     "data": {
      "text/plain": [
       "[('2014-08-06 07:24:00', '-73.956327000000002', '40.767992'),\n",
       " ('2014-08-17 03:01:00', '-74.001401999999999', '40.71752'),\n",
       " ('2014-08-09 18:50:20', '-73.987528999999995', '40.743077'),\n",
       " ('2014-08-06 13:25:17', '-73.977215000000001', '40.758662000000001'),\n",
       " ('2014-08-02 00:43:00', '-73.977147000000002', '40.784776999999998'),\n",
       " ('2014-08-05 10:33:00', '-73.957759999999993', '40.776201999999998'),\n",
       " ('2014-08-02 19:27:12', '-73.978440000000006', '40.763021999999999'),\n",
       " ('2014-08-21 18:06:00', '-73.981459999999998', '40.749867000000002'),\n",
       " ('2014-08-27 22:57:00', '-73.998692000000005', '40.739874999999998'),\n",
       " ('2014-08-17 10:21:00', '-73.782110000000003', '40.644677000000001')]"
      ]
     },
     "execution_count": 24,
     "metadata": {},
     "output_type": "execute_result"
    }
   ],
   "source": [
    "def extractTaxi(partId, records):\n",
    "    '''if partId==0:\n",
    "        records.next()'''\n",
    "    import csv\n",
    "    reader = csv.reader(records)\n",
    "    for row in reader:\n",
    "        (pickup, lon, lat) = (row[1], row[5], row[6])\n",
    "        yield pickup, lon, lat\n",
    "\n",
    "trdd = taxi_aug14.mapPartitionsWithIndex(extractTaxi)\n",
    "trdd.take(10)"
   ]
  }
 ],
 "metadata": {
  "kernelspec": {
   "display_name": "Python 2",
   "language": "python",
   "name": "python2"
  },
  "language_info": {
   "codemirror_mode": {
    "name": "ipython",
    "version": 2
   },
   "file_extension": ".py",
   "mimetype": "text/x-python",
   "name": "python",
   "nbconvert_exporter": "python",
   "pygments_lexer": "ipython2",
   "version": "2.7.14"
  }
 },
 "nbformat": 4,
 "nbformat_minor": 2
}
